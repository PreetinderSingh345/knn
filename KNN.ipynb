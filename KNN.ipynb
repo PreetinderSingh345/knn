{
 "cells": [
  {
   "cell_type": "code",
   "execution_count": 37,
   "id": "2f26ba25",
   "metadata": {},
   "outputs": [],
   "source": [
    "# importing the needed packages/modules/functions etc.\n",
    "\n",
    "from sklearn import datasets\n",
    "from sklearn.neighbors import KNeighborsClassifier\n",
    "from sklearn.model_selection import train_test_split\n",
    "from sklearn.metrics import accuracy_score\n",
    "from collections import Counter"
   ]
  },
  {
   "cell_type": "code",
   "execution_count": 38,
   "id": "cda0a3b7",
   "metadata": {},
   "outputs": [],
   "source": [
    "# getting the input and the output \n",
    "\n",
    "data=datasets.load_breast_cancer()\n",
    "\n",
    "X=data.data\n",
    "Y=data.target"
   ]
  },
  {
   "cell_type": "code",
   "execution_count": 39,
   "id": "e6fceffe",
   "metadata": {},
   "outputs": [],
   "source": [
    "# splitting the input and output into train and test\n",
    "\n",
    "X_train, X_test, Y_train, Y_test=train_test_split(X, Y, test_size=0.2, random_state=0)"
   ]
  },
  {
   "cell_type": "code",
   "execution_count": 40,
   "id": "201f00fb",
   "metadata": {},
   "outputs": [],
   "source": [
    "# train function which does nothing as no training is needed for the KNN we're implementing, all the work will be done when the \n",
    "# testing data arrives\n",
    "\n",
    "def train(X, Y) :\n",
    "    return "
   ]
  },
  {
   "cell_type": "code",
   "execution_count": 41,
   "id": "3516f2eb",
   "metadata": {},
   "outputs": [],
   "source": [
    "# predict one function which is used to predict the class corresponding to a particular test data point, for a given value of k\n",
    "\n",
    "def predict_one(X_train, Y_train, x, k) :\n",
    "#     defining the distances array\n",
    "\n",
    "    distances=[]\n",
    "    \n",
    "#     iterating on X_train\n",
    "    \n",
    "    for i in range(len(X_train)) :\n",
    "#         calculating the euclidian distance of the current training data point from the test data point\n",
    "\n",
    "        distance=((((X_train[i, :]-x)**2).sum())**0.5)\n",
    "    \n",
    "#     appending the index and the corresponding distance to the distances array\n",
    "        \n",
    "        distances.append([i, distance])\n",
    "        \n",
    "#     sorting the distances array wrt the distance in ascending order\n",
    "        \n",
    "    distances.sort(key=lambda distance : distance[1])\n",
    "    \n",
    "#     getting the classes of the k neareset neighbours\n",
    "    \n",
    "    k_neighbours=[Y_train[distance[0]] for distance in distances[: k]]\n",
    "    \n",
    "#     returning the most common/frequent class as the prediction for the test data point\n",
    "    \n",
    "    prediction=Counter(k_neighbours).most_common(1)[0][0]\n",
    "    \n",
    "    return prediction"
   ]
  },
  {
   "cell_type": "code",
   "execution_count": 42,
   "id": "89110863",
   "metadata": {},
   "outputs": [],
   "source": [
    "# predict function which is used to predict the class corresponding to all the test data points, for a given value of k\n",
    "\n",
    "def predict(X_train, Y_train, X_test, k) :\n",
    "#     defining the predictions array \n",
    "\n",
    "    predictions=[]\n",
    "    \n",
    "#     iterating on each data point inside X_test\n",
    "    \n",
    "    for x in X_test :\n",
    "#         predicting the class for x and adding it to the predictions array\n",
    "\n",
    "        x_class=predict_one(X_train, Y_train, x, k)\n",
    "        \n",
    "        predictions.append(x_class)\n",
    "        \n",
    "#     returning the predictions\n",
    "        \n",
    "    return predictions"
   ]
  },
  {
   "cell_type": "code",
   "execution_count": 43,
   "id": "3fd452ad",
   "metadata": {},
   "outputs": [],
   "source": [
    "# defining the value of k for KNN(we'll be checking the 7 nearest neighbours for a particular test data point)\n",
    "\n",
    "k=7"
   ]
  },
  {
   "cell_type": "code",
   "execution_count": 44,
   "id": "779c6859",
   "metadata": {},
   "outputs": [],
   "source": [
    "# training the algorithm on the training data(no training is currently involved)\n",
    "\n",
    "train(X_train, Y_train)"
   ]
  },
  {
   "cell_type": "code",
   "execution_count": 47,
   "id": "ef759438",
   "metadata": {},
   "outputs": [],
   "source": [
    "# getting the predictions corresponding to the test data points, for a given value of k\n",
    "\n",
    "Y_pred=predict(X_train, Y_train, X_test, k)"
   ]
  },
  {
   "cell_type": "code",
   "execution_count": 46,
   "id": "5a3cfe83",
   "metadata": {},
   "outputs": [
    {
     "data": {
      "text/plain": [
       "0.9385964912280702"
      ]
     },
     "execution_count": 46,
     "metadata": {},
     "output_type": "execute_result"
    }
   ],
   "source": [
    "# getting the mean accuracy score of the algorithm \n",
    "\n",
    "accuracy_score(Y_test, Y_pred)"
   ]
  }
 ],
 "metadata": {
  "kernelspec": {
   "display_name": "Python 3",
   "language": "python",
   "name": "python3"
  },
  "language_info": {
   "codemirror_mode": {
    "name": "ipython",
    "version": 3
   },
   "file_extension": ".py",
   "mimetype": "text/x-python",
   "name": "python",
   "nbconvert_exporter": "python",
   "pygments_lexer": "ipython3",
   "version": "3.8.8"
  }
 },
 "nbformat": 4,
 "nbformat_minor": 5
}
